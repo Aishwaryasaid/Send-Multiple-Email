{
 "cells": [
  {
   "cell_type": "markdown",
   "metadata": {},
   "source": [
    "## Import Library"
   ]
  },
  {
   "cell_type": "code",
   "execution_count": 24,
   "metadata": {},
   "outputs": [],
   "source": [
    "import csv\n",
    "import smtplib\n",
    "from email.mime.text import MIMEText\n",
    "from email.mime.multipart import MIMEMultipart\n",
    "from email.mime.base import MIMEBase\n",
    "from email import encoders"
   ]
  },
  {
   "cell_type": "code",
   "execution_count": 38,
   "metadata": {},
   "outputs": [],
   "source": [
    "email_sender=\"aishwaryasaid191@gmail.com\" #email id from which email has to be sent\n",
    "email_password=\"Aishwarya@123\"# password of the email\n",
    "subject =\"Subsciption Activated\" #subject of the email"
   ]
  },
  {
   "cell_type": "code",
   "execution_count": 39,
   "metadata": {},
   "outputs": [],
   "source": [
    "# open csv file\n",
    "with open('email.csv') as read_csv:\n",
    "    reader = csv.reader(read_csv)\n",
    "    for line in reader:\n",
    "        text = 'Hi ' + line[1]+line[2]\n",
    "        email_send = line[0]\n",
    "        msg = MIMEMultipart()\n",
    "        msg['From'] = email_sender #email to \n",
    "        msg['To'] = email_send #email \n",
    "        msg['subject'] = subject #subject of the email\n",
    "        msg.attach(MIMEText(text,'plain'))\n",
    "        text = msg.as_string()"
   ]
  },
  {
   "cell_type": "code",
   "execution_count": 40,
   "metadata": {},
   "outputs": [
    {
     "data": {
      "text/plain": [
       "['gisspeed@gmail.com', 'Guneet', ' You have subscrised to smile all day']"
      ]
     },
     "execution_count": 40,
     "metadata": {},
     "output_type": "execute_result"
    }
   ],
   "source": [
    "line"
   ]
  },
  {
   "cell_type": "code",
   "execution_count": 41,
   "metadata": {},
   "outputs": [
    {
     "data": {
      "text/plain": [
       "(221, b'2.0.0 closing connection g11sm24301935wri.59 - gsmtp')"
      ]
     },
     "execution_count": 41,
     "metadata": {},
     "output_type": "execute_result"
    }
   ],
   "source": [
    "server = smtplib.SMTP_SSL('smtp.gmail.com',465 ) #port number of the gmail\n",
    "server.login(email_sender, email_password) #login id and password\n",
    "server.sendmail(email_sender, email_send, text) \n",
    "\n",
    "server.quit()"
   ]
  },
  {
   "cell_type": "code",
   "execution_count": null,
   "metadata": {},
   "outputs": [],
   "source": []
  },
  {
   "cell_type": "code",
   "execution_count": null,
   "metadata": {},
   "outputs": [],
   "source": []
  },
  {
   "cell_type": "code",
   "execution_count": null,
   "metadata": {},
   "outputs": [],
   "source": [
    "\n"
   ]
  },
  {
   "cell_type": "code",
   "execution_count": null,
   "metadata": {},
   "outputs": [],
   "source": []
  }
 ],
 "metadata": {
  "kernelspec": {
   "display_name": "Python 3",
   "language": "python",
   "name": "python3"
  },
  "language_info": {
   "codemirror_mode": {
    "name": "ipython",
    "version": 3
   },
   "file_extension": ".py",
   "mimetype": "text/x-python",
   "name": "python",
   "nbconvert_exporter": "python",
   "pygments_lexer": "ipython3",
   "version": "3.8.3"
  }
 },
 "nbformat": 4,
 "nbformat_minor": 4
}
